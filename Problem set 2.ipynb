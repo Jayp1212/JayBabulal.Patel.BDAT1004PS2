{
 "cells": [
  {
   "cell_type": "markdown",
   "id": "078bdae9",
   "metadata": {},
   "source": [
    "# Question:1\n",
    "\n",
    "## Here is what happens in every executed statement:\n",
    "\n",
    "1. The module is imported and the statement a = 0 creates a variable a and assigns the value 0 to it.\n",
    "\n",
    "2. The statement def b(): defines a function b().\n",
    "\n",
    "3. The global keyword inside b() indicates that the variable a being referenced is the global variable a defined outside the function.\n",
    "\n",
    "4. The statement a = c(a) inside b() calls the function c() with the current value of a as its argument and sets the global variable a to the value returned by c().\n",
    "\n",
    "5. The statement def c(a): defines a function c().\n",
    "\n",
    "6. The statement return a + 2 inside c() adds 2 to the argument a and returns the result.\n",
    "\n",
    "7. The first call to b() with b() sets the global variable a to 2 by calling c(0) which returns 2.\n",
    "\n",
    "8. The second call to b() with b() sets the global variable a to 4 by calling c(2) which returns 4.\n",
    "\n",
    "9. The third call to b() with b() sets the global variable a to 6 by calling c(4) which returns 6.\n",
    "\n",
    "10. Finally, the expression a is evaluated, which returns the current value of the global variable a, which is 6."
   ]
  },
  {
   "cell_type": "markdown",
   "id": "8f4af4bd",
   "metadata": {},
   "source": [
    "# Question 2:"
   ]
  },
  {
   "cell_type": "code",
   "execution_count": 3,
   "id": "100e824d",
   "metadata": {},
   "outputs": [
    {
     "name": "stdout",
     "output_type": "stream",
     "text": [
      "Enter the name of a File: jaybp.txt\n",
      "Enter the name of a File: currencies.txt\n",
      "\n",
      "File jaybp.txt not found.\n"
     ]
    },
    {
     "data": {
      "text/plain": [
       "478"
      ]
     },
     "execution_count": 3,
     "metadata": {},
     "output_type": "execute_result"
    }
   ],
   "source": [
    "def fileLength(filename):\n",
    "    try:\n",
    "        infile = open(filename, 'r')\n",
    "        content = infile.read()\n",
    "        infile.close()\n",
    "        return len(content)\n",
    "    except FileNotFoundError:\n",
    "        print(f\"\\nFile {filename} not found.\")        \n",
    "        \n",
    "file=input(\"Enter the name of a File: \")\n",
    "file2=input(\"Enter the name of a File: \")\n",
    "\n",
    "fileLength(file)\n",
    "fileLength(file2)"
   ]
  },
  {
   "cell_type": "markdown",
   "id": "7907ff09",
   "metadata": {},
   "source": [
    "# Question 3:"
   ]
  },
  {
   "cell_type": "code",
   "execution_count": 4,
   "id": "e883ecd6",
   "metadata": {},
   "outputs": [
    {
     "name": "stdout",
     "output_type": "stream",
     "text": [
      "['doll', 'firetruck', 'kitten']\n",
      "I am a Kangaroo located at coordinates (3,0)\n"
     ]
    }
   ],
   "source": [
    "class Marsupial:\n",
    "    def __init__(self):\n",
    "        self.pouch = []\n",
    "        \n",
    "    def put_in_pouch(self, item):\n",
    "        self.pouch.append(item)\n",
    "        \n",
    "    def pouch_contents(self):\n",
    "        return self.pouch\n",
    "\n",
    "class Kangaroo(Marsupial):\n",
    "    def __init__(self, x=0, y=0):\n",
    "        super().__init__()\n",
    "        self.x = x\n",
    "        self.y = y\n",
    "    \n",
    "    def jump(self, dx, dy):\n",
    "        self.x += dx\n",
    "        self.y += dy\n",
    "        \n",
    "    def __str__(self):\n",
    "        return f\"I am a Kangaroo located at coordinates ({self.x},{self.y})\"\n",
    "    \n",
    "    \n",
    "    \n",
    "# Create a Kangaroo object at (0, 0)\n",
    "k = Kangaroo(0, 0)\n",
    "\n",
    "# Add items to the Kangaroo's pouch\n",
    "k.put_in_pouch('doll')\n",
    "k.put_in_pouch('firetruck')\n",
    "k.put_in_pouch('kitten')\n",
    "\n",
    "# Print the contents of the Kangaroo's pouch\n",
    "print(k.pouch_contents())\n",
    "\n",
    "# Move the Kangaroo\n",
    "k.jump(1, 0)\n",
    "k.jump(1, 0)\n",
    "k.jump(1, 0)\n",
    "\n",
    "# Print the Kangaroo's location\n",
    "print(k)"
   ]
  },
  {
   "cell_type": "markdown",
   "id": "a0a525c2",
   "metadata": {},
   "source": [
    "# Question 4:"
   ]
  },
  {
   "cell_type": "code",
   "execution_count": 5,
   "id": "3beacd53",
   "metadata": {},
   "outputs": [
    {
     "name": "stdout",
     "output_type": "stream",
     "text": [
      "Enter a Number: 8\n",
      "Enter a Number: 7\n",
      "\n",
      "Collatz for 8 is: \n",
      "8\n",
      "4\n",
      "2\n",
      "1\n",
      "\n",
      "Collatz for 7 is: \n",
      "7\n",
      "22\n",
      "11\n",
      "34\n",
      "17\n",
      "52\n",
      "26\n",
      "13\n",
      "40\n",
      "20\n",
      "10\n",
      "5\n",
      "16\n",
      "8\n",
      "4\n",
      "2\n",
      "1\n"
     ]
    }
   ],
   "source": [
    "def collatz(x):\n",
    "    print(x)\n",
    "    if x == 1:\n",
    "        return\n",
    "    elif x % 2 == 0:\n",
    "        collatz(x // 2)\n",
    "    else:\n",
    "        collatz(3 * x + 1)\n",
    "        \n",
    "number= int(input(\"Enter a Number: \"))\n",
    "number1= int(input(\"Enter a Number: \"))\n",
    "\n",
    "print(f\"\\nCollatz for {number} is: \")\n",
    "collatz(number)\n",
    "\n",
    "print(f\"\\nCollatz for {number1} is: \")\n",
    "collatz(number1)"
   ]
  },
  {
   "cell_type": "markdown",
   "id": "3a76bdbd",
   "metadata": {},
   "source": [
    "# Question 5:"
   ]
  },
  {
   "cell_type": "code",
   "execution_count": 7,
   "id": "f6e3485d",
   "metadata": {},
   "outputs": [
    {
     "name": "stdout",
     "output_type": "stream",
     "text": [
      "Enter a Number: 17\n",
      "10001"
     ]
    }
   ],
   "source": [
    "def binary(n):\n",
    "    if n == 0:\n",
    "        print('0', end='')\n",
    "    elif n == 1:\n",
    "        print('1', end='')\n",
    "    else:\n",
    "        binary(n // 2)\n",
    "        print(n % 2, end='')\n",
    "        \n",
    "number=int(input(\"Enter a Number: \"))\n",
    "binary(number)"
   ]
  },
  {
   "cell_type": "markdown",
   "id": "87d249a5",
   "metadata": {},
   "source": [
    "# Question 6:"
   ]
  },
  {
   "cell_type": "code",
   "execution_count": 9,
   "id": "6955737a",
   "metadata": {},
   "outputs": [
    {
     "name": "stdout",
     "output_type": "stream",
     "text": [
      " W3C Mission\n",
      "  Principles\n"
     ]
    }
   ],
   "source": [
    "from html.parser import HTMLParser\n",
    "\n",
    "class HeadingParser(HTMLParser):\n",
    "    def __init__(self):\n",
    "        super().__init__()\n",
    "        self._headings = []\n",
    "        self._level = 0\n",
    "\n",
    "    def handle_starttag(self, tag, attrs):\n",
    "        if tag.startswith('h') and len(tag) == 2:\n",
    "            self._level = int(tag[1])\n",
    "\n",
    "    def handle_data(self, data):\n",
    "        if self._level:\n",
    "            self._headings.append((self._level, data.strip()))\n",
    "\n",
    "    def handle_endtag(self, tag):\n",
    "        if tag.startswith('h') and len(tag) == 2:\n",
    "            self._level = 0\n",
    "\n",
    "    def print_headings(self):\n",
    "        for level, heading in self._headings:\n",
    "            print(' ' * level + heading)\n",
    "\n",
    "# Example usage\n",
    "infile = open('w3c.html')\n",
    "content = infile.read()\n",
    "infile.close()\n",
    "hp = HeadingParser()\n",
    "hp.feed(content)\n",
    "hp.print_headings()"
   ]
  },
  {
   "cell_type": "markdown",
   "id": "2eaef1a8",
   "metadata": {},
   "source": [
    "# Question 7:"
   ]
  },
  {
   "cell_type": "code",
   "execution_count": 16,
   "id": "44986d18",
   "metadata": {},
   "outputs": [
    {
     "name": "stdout",
     "output_type": "stream",
     "text": [
      " http://reed.cs.depaul.edu/lperkovic/test1.html\n",
      "         http://reed.cs.depaul.edu/lperkovic/test2.html\n",
      "                 http://reed.cs.depaul.edu/lperkovic/test4.html\n",
      "         http://reed.cs.depaul.edu/lperkovic/test3.html\n",
      "                 http://reed.cs.depaul.edu/lperkovic/test4.html\n"
     ]
    }
   ],
   "source": [
    "from html.parser import HTMLParser    \n",
    "from urllib.request import urlopen\n",
    "from urllib.parse import urljoin\n",
    "\n",
    "class Collector(HTMLParser):\n",
    "    \n",
    "    def __init__(self, url):\n",
    "        HTMLParser.__init__(self)\n",
    "        self.url = url\n",
    "        self.url_links = []\n",
    "\n",
    "    def append(self):\n",
    "        return self.url_links\n",
    "\n",
    "    def handle_starttag(self, url_tag, attributes):\n",
    "        for a in attributes:\n",
    "            ab = urljoin(self.url, a[1])\n",
    "            if ab[:4] == 'http': \n",
    "                self.url_links.append(ab)\n",
    "\n",
    "def webdir(url, depth, i):\n",
    "    depth = depth - 1    \n",
    "    print(i*'  ', url)         \n",
    "    try:\n",
    "        objective = urlopen(url).read().decode()\n",
    "        collection = Collector(url)\n",
    "        collection.feed(objective)\n",
    "        urls = collection.append() \n",
    "        url_links = urls\n",
    "        i = i + 4\n",
    "        for link in url_links:\n",
    "            if depth < 0 or i < 0:\n",
    "                return 1\n",
    "            else:\n",
    "                webdir(link, depth, i)\n",
    "    except Exception as e:\n",
    "        print(\"Error: \", e)\n",
    "\n",
    "webdir('http://reed.cs.depaul.edu/lperkovic/test1.html', 2, 0)\n"
   ]
  },
  {
   "cell_type": "markdown",
   "id": "a96c7597",
   "metadata": {},
   "source": [
    "# Question 8:"
   ]
  },
  {
   "cell_type": "code",
   "execution_count": 17,
   "id": "0be1dec4",
   "metadata": {},
   "outputs": [
    {
     "name": "stdout",
     "output_type": "stream",
     "text": [
      "a) All temperature data:\n",
      "\n",
      "[(24.8,), (28.4,), (27.9,), (27.6,), (4.2,), (8.3,), (15.7,), (10.4,), (13.6,), (20.7,), (27.7,), (22.2,)]\n",
      "\n",
      "\n",
      "b) All cities without repetition:\n",
      "\n",
      "[('Mumbai',), ('London',), ('Cairo',)]\n",
      "\n",
      "\n",
      "c) All records for India:\n",
      "\n",
      "[('Mumbai', 'India', 'Winter', 24.8, 5.9), ('Mumbai', 'India', 'Spring', 28.4, 16.2), ('Mumbai', 'India', 'Summer', 27.9, 1549.4), ('Mumbai', 'India', 'Fall', 27.6, 346.0)]\n",
      "\n",
      "\n",
      "d) All Fall records:\n",
      "\n",
      "[('Mumbai', 'India', 'Fall', 27.6, 346.0), ('London', 'United Kingdom', 'Fall', 10.4, 218.5), ('Cairo', 'Egypt', 'Fall', 22.2, 4.5)]\n",
      "\n",
      "\n",
      "e) City, Country, and Season for which the average rainfall is between 200 and 400 millimeters:\n",
      "\n",
      "[('London', 'United Kingdom', 'Fall'), ('London', 'United Kingdom', 'Winter'), ('Mumbai', 'India', 'Fall')]\n",
      "\n",
      "\n",
      "f) City and Country for which the average Fall temperature is above 20 degrees, in increasing temperature order:\n",
      "\n",
      "('Cairo', 'Egypt')\n",
      "\n",
      "\n",
      "g) The total annual rainfall for Cairo:\n",
      "\n",
      "27.6\n",
      "\n",
      "\n",
      "h) The total rainfall for each season:\n",
      "\n",
      "[('Fall', 569.0), ('Spring', 192.29999999999998), ('Summer', 1706.5), ('Winter', 230.1)]\n"
     ]
    }
   ],
   "source": [
    "import sqlite3\n",
    "\n",
    "# Connect to the database\n",
    "conn = sqlite3.connect('weather_data.db')\n",
    "c = conn.cursor()\n",
    "\n",
    "# Create the table\n",
    "c.execute('''CREATE TABLE weather_data\n",
    "             (City text, Country text, Season text, Temperature real, Rainfall real)''')\n",
    "\n",
    "# Insert the data\n",
    "c.execute(\"INSERT INTO weather_data VALUES ('Mumbai', 'India', 'Winter', 24.8, 5.9)\")\n",
    "c.execute(\"INSERT INTO weather_data VALUES ('Mumbai', 'India', 'Spring', 28.4, 16.2)\")\n",
    "c.execute(\"INSERT INTO weather_data VALUES ('Mumbai', 'India', 'Summer', 27.9, 1549.4)\")\n",
    "c.execute(\"INSERT INTO weather_data VALUES ('Mumbai', 'India', 'Fall', 27.6, 346.0)\")\n",
    "c.execute(\"INSERT INTO weather_data VALUES ('London', 'United Kingdom', 'Winter', 4.2, 207.7)\")\n",
    "c.execute(\"INSERT INTO weather_data VALUES ('London', 'United Kingdom', 'Spring', 8.3, 169.6)\")\n",
    "c.execute(\"INSERT INTO weather_data VALUES ('London', 'United Kingdom', 'Summer', 15.7, 157.0)\")\n",
    "c.execute(\"INSERT INTO weather_data VALUES ('London', 'United Kingdom', 'Fall', 10.4, 218.5)\")\n",
    "c.execute(\"INSERT INTO weather_data VALUES ('Cairo', 'Egypt', 'Winter', 13.6, 16.5)\")\n",
    "c.execute(\"INSERT INTO weather_data VALUES ('Cairo', 'Egypt', 'Spring', 20.7, 6.5)\")\n",
    "c.execute(\"INSERT INTO weather_data VALUES ('Cairo', 'Egypt', 'Summer', 27.7, 0.1)\")\n",
    "c.execute(\"INSERT INTO weather_data VALUES ('Cairo', 'Egypt', 'Fall', 22.2, 4.5)\")\n",
    "\n",
    "# Save the changes\n",
    "conn.commit()\n",
    "\n",
    "# Query the data\n",
    "# a) All the temperature data.\n",
    "c.execute(\"SELECT Temperature FROM weather_data\")\n",
    "print(\"a) All temperature data:\\n\")\n",
    "print(c.fetchall())\n",
    "\n",
    "# b) All the cities, but without repetition.\n",
    "c.execute(\"SELECT DISTINCT City FROM weather_data\")\n",
    "print(\"\\n\\nb) All cities without repetition:\\n\")\n",
    "print(c.fetchall())\n",
    "\n",
    "# c) All the records for India.\n",
    "c.execute(\"SELECT * FROM weather_data WHERE Country='India'\")\n",
    "print(\"\\n\\nc) All records for India:\\n\")\n",
    "print(c.fetchall())\n",
    "\n",
    "# d) All the Fall records.\n",
    "c.execute(\"SELECT * FROM weather_data WHERE Season='Fall'\")\n",
    "print(\"\\n\\nd) All Fall records:\\n\")\n",
    "print(c.fetchall())\n",
    "\n",
    "# e) The city, country, and season for which the average rainfall is between 200 and 400 millimeters.\n",
    "c.execute(\"SELECT City, Country, Season FROM weather_data GROUP BY City, Country, Season HAVING AVG(Rainfall) BETWEEN 200 AND 400\")\n",
    "print(\"\\n\\ne) City, Country, and Season for which the average rainfall is between 200 and 400 millimeters:\\n\")\n",
    "print(c.fetchall())\n",
    "\n",
    "# f) The city and country for which the average Fall temperature is above 20 degrees, in increasing temperature order.\n",
    "c.execute(\"SELECT City, Country FROM weather_data WHERE Season='Fall' GROUP BY City, Country HAVING AVG(Temperature) > 20 ORDER BY AVG(Temperature)\")\n",
    "print(\"\\n\\nf) City and Country for which the average Fall temperature is above 20 degrees, in increasing temperature order:\\n\")\n",
    "print(c.fetchone())\n",
    "\n",
    "# Query g) The total annual rainfall for Cairo.\n",
    "c.execute('SELECT SUM(Rainfall) FROM weather_data WHERE City=\"Cairo\"')\n",
    "print(\"\\n\\ng) The total annual rainfall for Cairo:\\n\")\n",
    "print(c.fetchone()[0])\n",
    "\n",
    "# Query h) The total rainfall for each season.\n",
    "c.execute('SELECT Season, SUM(Rainfall) FROM weather_data GROUP BY Season')\n",
    "print(\"\\n\\nh) The total rainfall for each season:\\n\")\n",
    "\n",
    "print(c.fetchall())\n",
    "\n",
    "# Close the cursor and the connection\n",
    "c.close()\n",
    "conn.close()"
   ]
  },
  {
   "cell_type": "markdown",
   "id": "9d78802b",
   "metadata": {},
   "source": [
    "# Question 9:"
   ]
  },
  {
   "cell_type": "code",
   "execution_count": 18,
   "id": "b16f35ec",
   "metadata": {},
   "outputs": [
    {
     "name": "stdout",
     "output_type": "stream",
     "text": [
      "a) ['THE', 'QUICK', 'BROWN', 'FOX', 'JUMPS', 'OVER', 'THE', 'LAZY', 'DOG']\n",
      "\n",
      "b) ['the', 'quick', 'brown', 'fox', 'jumps', 'over', 'the', 'lazy', 'dog']\n",
      "\n",
      "c) [3, 5, 5, 3, 5, 4, 3, 4, 3]\n",
      "\n",
      "d) [['THE', 'the', 3], ['QUICK', 'quick', 5], ['BROWN', 'brown', 5], ['FOX', 'fox', 3], ['JUMPS', 'jumps', 5], ['OVER', 'over', 4], ['THE', 'the', 3], ['LAZY', 'lazy', 4], ['DOG', 'dog', 3]]\n",
      "\n",
      "e) ['quick', 'brown', 'jumps', 'over', 'lazy']\n"
     ]
    }
   ],
   "source": [
    "words = ['The', 'quick', 'brown', 'fox', 'jumps', 'over', 'the', 'lazy', 'dog']\n",
    "\n",
    "print(\"a)\",[word.upper() for word in words])\n",
    "print(\"\\nb)\",[word.lower() for word in words])\n",
    "print(\"\\nc)\",[len(word) for word in words])\n",
    "print(\"\\nd)\",[[word.upper(), word.lower(), len(word)] for word in words])\n",
    "print(\"\\ne)\",[word for word in words if len(word) >= 4])"
   ]
  }
 ],
 "metadata": {
  "kernelspec": {
   "display_name": "Python 3 (ipykernel)",
   "language": "python",
   "name": "python3"
  },
  "language_info": {
   "codemirror_mode": {
    "name": "ipython",
    "version": 3
   },
   "file_extension": ".py",
   "mimetype": "text/x-python",
   "name": "python",
   "nbconvert_exporter": "python",
   "pygments_lexer": "ipython3",
   "version": "3.9.13"
  }
 },
 "nbformat": 4,
 "nbformat_minor": 5
}
